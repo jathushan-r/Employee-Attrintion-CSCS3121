{
 "cells": [
  {
   "cell_type": "code",
   "execution_count": 83,
   "metadata": {},
   "outputs": [],
   "source": [
    "import numpy as np\n",
    "import pandas as pd\n",
    "import matplotlib.pyplot as plt\n",
    "import seaborn as sns"
   ]
  },
  {
   "cell_type": "code",
   "execution_count": 84,
   "metadata": {},
   "outputs": [],
   "source": [
    "leaves_df = pd.read_csv('leaves.csv')\n",
    "holidays_df = pd.read_csv('holidays.csv')"
   ]
  },
  {
   "cell_type": "code",
   "execution_count": 85,
   "metadata": {},
   "outputs": [
    {
     "data": {
      "text/html": [
       "<div>\n",
       "<style scoped>\n",
       "    .dataframe tbody tr th:only-of-type {\n",
       "        vertical-align: middle;\n",
       "    }\n",
       "\n",
       "    .dataframe tbody tr th {\n",
       "        vertical-align: top;\n",
       "    }\n",
       "\n",
       "    .dataframe thead th {\n",
       "        text-align: right;\n",
       "    }\n",
       "</style>\n",
       "<table border=\"1\" class=\"dataframe\">\n",
       "  <thead>\n",
       "    <tr style=\"text-align: right;\">\n",
       "      <th></th>\n",
       "      <th>Employee_No</th>\n",
       "      <th>leave_date</th>\n",
       "      <th>Type</th>\n",
       "      <th>Applied Date</th>\n",
       "      <th>Remarks</th>\n",
       "      <th>apply_type</th>\n",
       "    </tr>\n",
       "  </thead>\n",
       "  <tbody>\n",
       "    <tr>\n",
       "      <th>0</th>\n",
       "      <td>347</td>\n",
       "      <td>1/29/2020</td>\n",
       "      <td>Half Day</td>\n",
       "      <td>1/4/2022 15:33</td>\n",
       "      <td>\\N</td>\n",
       "      <td>Anual</td>\n",
       "    </tr>\n",
       "    <tr>\n",
       "      <th>1</th>\n",
       "      <td>347</td>\n",
       "      <td>1/29/2020</td>\n",
       "      <td>Half Day</td>\n",
       "      <td>1/4/2022 15:33</td>\n",
       "      <td>\\N</td>\n",
       "      <td>Anual</td>\n",
       "    </tr>\n",
       "    <tr>\n",
       "      <th>2</th>\n",
       "      <td>347</td>\n",
       "      <td>1/29/2020</td>\n",
       "      <td>Half Day</td>\n",
       "      <td>1/4/2022 15:36</td>\n",
       "      <td>\\N</td>\n",
       "      <td>Anual</td>\n",
       "    </tr>\n",
       "    <tr>\n",
       "      <th>3</th>\n",
       "      <td>347</td>\n",
       "      <td>1/29/2020</td>\n",
       "      <td>Half Day</td>\n",
       "      <td>1/4/2022 15:36</td>\n",
       "      <td>\\N</td>\n",
       "      <td>Anual</td>\n",
       "    </tr>\n",
       "    <tr>\n",
       "      <th>4</th>\n",
       "      <td>347</td>\n",
       "      <td>1/29/2020</td>\n",
       "      <td>Half Day</td>\n",
       "      <td>1/4/2022 18:02</td>\n",
       "      <td>\\N</td>\n",
       "      <td>Anual</td>\n",
       "    </tr>\n",
       "  </tbody>\n",
       "</table>\n",
       "</div>"
      ],
      "text/plain": [
       "   Employee_No leave_date      Type    Applied Date Remarks apply_type\n",
       "0          347  1/29/2020  Half Day  1/4/2022 15:33      \\N      Anual\n",
       "1          347  1/29/2020  Half Day  1/4/2022 15:33      \\N      Anual\n",
       "2          347  1/29/2020  Half Day  1/4/2022 15:36      \\N      Anual\n",
       "3          347  1/29/2020  Half Day  1/4/2022 15:36      \\N      Anual\n",
       "4          347  1/29/2020  Half Day  1/4/2022 18:02      \\N      Anual"
      ]
     },
     "execution_count": 85,
     "metadata": {},
     "output_type": "execute_result"
    }
   ],
   "source": [
    "leaves_df.head()"
   ]
  },
  {
   "cell_type": "code",
   "execution_count": 86,
   "metadata": {},
   "outputs": [
    {
     "data": {
      "text/html": [
       "<div>\n",
       "<style scoped>\n",
       "    .dataframe tbody tr th:only-of-type {\n",
       "        vertical-align: middle;\n",
       "    }\n",
       "\n",
       "    .dataframe tbody tr th {\n",
       "        vertical-align: top;\n",
       "    }\n",
       "\n",
       "    .dataframe thead th {\n",
       "        text-align: right;\n",
       "    }\n",
       "</style>\n",
       "<table border=\"1\" class=\"dataframe\">\n",
       "  <thead>\n",
       "    <tr style=\"text-align: right;\">\n",
       "      <th></th>\n",
       "      <th>2017-05-07</th>\n",
       "    </tr>\n",
       "  </thead>\n",
       "  <tbody>\n",
       "    <tr>\n",
       "      <th>0</th>\n",
       "      <td>2017-05-14</td>\n",
       "    </tr>\n",
       "    <tr>\n",
       "      <th>1</th>\n",
       "      <td>2017-05-21</td>\n",
       "    </tr>\n",
       "    <tr>\n",
       "      <th>2</th>\n",
       "      <td>2017-05-28</td>\n",
       "    </tr>\n",
       "    <tr>\n",
       "      <th>3</th>\n",
       "      <td>2017-06-04</td>\n",
       "    </tr>\n",
       "    <tr>\n",
       "      <th>4</th>\n",
       "      <td>2017-06-11</td>\n",
       "    </tr>\n",
       "  </tbody>\n",
       "</table>\n",
       "</div>"
      ],
      "text/plain": [
       "   2017-05-07\n",
       "0  2017-05-14\n",
       "1  2017-05-21\n",
       "2  2017-05-28\n",
       "3  2017-06-04\n",
       "4  2017-06-11"
      ]
     },
     "execution_count": 86,
     "metadata": {},
     "output_type": "execute_result"
    }
   ],
   "source": [
    "holidays_df.head()"
   ]
  },
  {
   "cell_type": "code",
   "execution_count": 87,
   "metadata": {},
   "outputs": [
    {
     "data": {
      "text/html": [
       "<div>\n",
       "<style scoped>\n",
       "    .dataframe tbody tr th:only-of-type {\n",
       "        vertical-align: middle;\n",
       "    }\n",
       "\n",
       "    .dataframe tbody tr th {\n",
       "        vertical-align: top;\n",
       "    }\n",
       "\n",
       "    .dataframe thead th {\n",
       "        text-align: right;\n",
       "    }\n",
       "</style>\n",
       "<table border=\"1\" class=\"dataframe\">\n",
       "  <thead>\n",
       "    <tr style=\"text-align: right;\">\n",
       "      <th></th>\n",
       "      <th>Date</th>\n",
       "    </tr>\n",
       "  </thead>\n",
       "  <tbody>\n",
       "    <tr>\n",
       "      <th>0</th>\n",
       "      <td>2017-05-07</td>\n",
       "    </tr>\n",
       "    <tr>\n",
       "      <th>1</th>\n",
       "      <td>2017-05-14</td>\n",
       "    </tr>\n",
       "    <tr>\n",
       "      <th>2</th>\n",
       "      <td>2017-05-21</td>\n",
       "    </tr>\n",
       "    <tr>\n",
       "      <th>3</th>\n",
       "      <td>2017-05-28</td>\n",
       "    </tr>\n",
       "    <tr>\n",
       "      <th>4</th>\n",
       "      <td>2017-06-04</td>\n",
       "    </tr>\n",
       "  </tbody>\n",
       "</table>\n",
       "</div>"
      ],
      "text/plain": [
       "        Date\n",
       "0 2017-05-07\n",
       "1 2017-05-14\n",
       "2 2017-05-21\n",
       "3 2017-05-28\n",
       "4 2017-06-04"
      ]
     },
     "execution_count": 87,
     "metadata": {},
     "output_type": "execute_result"
    }
   ],
   "source": [
    "#concat two pandas series in axis 0\n",
    "holidays = pd.concat([pd.Series(holidays_df.columns[0]), pd.Series(holidays_df.iloc[:,0])], axis=0)\n",
    "#holidays as dataframe\n",
    "holidays = pd.DataFrame(holidays)\n",
    "#rename column\n",
    "holidays.columns = ['Date']\n",
    "#convert to datetime\n",
    "holidays['Date'] = pd.to_datetime(holidays['Date'])\n",
    "#reset index\n",
    "holidays_df = holidays.reset_index(drop=True)\n",
    "holidays_df.head()\n"
   ]
  },
  {
   "cell_type": "code",
   "execution_count": 88,
   "metadata": {},
   "outputs": [
    {
     "data": {
      "text/plain": [
       "0       2022-01-04\n",
       "1       2022-01-04\n",
       "2       2022-01-04\n",
       "3       2022-01-04\n",
       "4       2022-01-04\n",
       "           ...    \n",
       "1013    2023-01-31\n",
       "1014    2023-01-31\n",
       "1015    2023-02-03\n",
       "1016    2023-02-03\n",
       "1017    2023-02-03\n",
       "Name: Applied Date, Length: 1018, dtype: object"
      ]
     },
     "execution_count": 88,
     "metadata": {},
     "output_type": "execute_result"
    }
   ],
   "source": [
    "leaves_df['leave_date'] = pd.to_datetime(leaves_df['leave_date'])\n",
    "leaves_df['Applied Date'] = pd.to_datetime(leaves_df['Applied Date'])\n",
    "leaves_df['Applied Date'] = leaves_df['Applied Date'].dt.date\n",
    "leaves_df['Applied Date']"
   ]
  },
  {
   "cell_type": "code",
   "execution_count": 89,
   "metadata": {},
   "outputs": [
    {
     "data": {
      "text/html": [
       "<div>\n",
       "<style scoped>\n",
       "    .dataframe tbody tr th:only-of-type {\n",
       "        vertical-align: middle;\n",
       "    }\n",
       "\n",
       "    .dataframe tbody tr th {\n",
       "        vertical-align: top;\n",
       "    }\n",
       "\n",
       "    .dataframe thead th {\n",
       "        text-align: right;\n",
       "    }\n",
       "</style>\n",
       "<table border=\"1\" class=\"dataframe\">\n",
       "  <thead>\n",
       "    <tr style=\"text-align: right;\">\n",
       "      <th></th>\n",
       "      <th>Employee_No</th>\n",
       "      <th>leave_date</th>\n",
       "      <th>Type</th>\n",
       "      <th>Applied Date</th>\n",
       "      <th>Remarks</th>\n",
       "      <th>apply_type</th>\n",
       "    </tr>\n",
       "  </thead>\n",
       "  <tbody>\n",
       "    <tr>\n",
       "      <th>0</th>\n",
       "      <td>347</td>\n",
       "      <td>2020-01-29</td>\n",
       "      <td>Half Day</td>\n",
       "      <td>2022-01-04</td>\n",
       "      <td>\\N</td>\n",
       "      <td>Anual</td>\n",
       "    </tr>\n",
       "    <tr>\n",
       "      <th>1</th>\n",
       "      <td>347</td>\n",
       "      <td>2020-01-29</td>\n",
       "      <td>Half Day</td>\n",
       "      <td>2022-01-04</td>\n",
       "      <td>\\N</td>\n",
       "      <td>Anual</td>\n",
       "    </tr>\n",
       "    <tr>\n",
       "      <th>2</th>\n",
       "      <td>347</td>\n",
       "      <td>2020-01-29</td>\n",
       "      <td>Half Day</td>\n",
       "      <td>2022-01-04</td>\n",
       "      <td>\\N</td>\n",
       "      <td>Anual</td>\n",
       "    </tr>\n",
       "    <tr>\n",
       "      <th>3</th>\n",
       "      <td>347</td>\n",
       "      <td>2020-01-29</td>\n",
       "      <td>Half Day</td>\n",
       "      <td>2022-01-04</td>\n",
       "      <td>\\N</td>\n",
       "      <td>Anual</td>\n",
       "    </tr>\n",
       "    <tr>\n",
       "      <th>4</th>\n",
       "      <td>347</td>\n",
       "      <td>2020-01-29</td>\n",
       "      <td>Half Day</td>\n",
       "      <td>2022-01-04</td>\n",
       "      <td>\\N</td>\n",
       "      <td>Anual</td>\n",
       "    </tr>\n",
       "  </tbody>\n",
       "</table>\n",
       "</div>"
      ],
      "text/plain": [
       "   Employee_No leave_date      Type Applied Date Remarks apply_type\n",
       "0          347 2020-01-29  Half Day   2022-01-04      \\N      Anual\n",
       "1          347 2020-01-29  Half Day   2022-01-04      \\N      Anual\n",
       "2          347 2020-01-29  Half Day   2022-01-04      \\N      Anual\n",
       "3          347 2020-01-29  Half Day   2022-01-04      \\N      Anual\n",
       "4          347 2020-01-29  Half Day   2022-01-04      \\N      Anual"
      ]
     },
     "execution_count": 89,
     "metadata": {},
     "output_type": "execute_result"
    }
   ],
   "source": [
    "#remove the records in leaves_df leave_date column with dates in holidays_df\n",
    "leaves_df = leaves_df[~leaves_df['leave_date'].isin(holidays_df['Date'])]\n",
    "leaves_df.head()"
   ]
  },
  {
   "cell_type": "code",
   "execution_count": 90,
   "metadata": {},
   "outputs": [],
   "source": [
    "# remove duplicates leaves_df\n",
    "leaves_df = leaves_df.drop_duplicates()\n",
    "#remove duplicates leaves_df Employee_No, leave_date\n",
    "leaves_df = leaves_df.drop_duplicates(subset=['Employee_No', 'leave_date'])"
   ]
  },
  {
   "cell_type": "code",
   "execution_count": null,
   "metadata": {},
   "outputs": [],
   "source": []
  },
  {
   "cell_type": "code",
   "execution_count": 91,
   "metadata": {},
   "outputs": [
    {
     "data": {
      "text/html": [
       "<div>\n",
       "<style scoped>\n",
       "    .dataframe tbody tr th:only-of-type {\n",
       "        vertical-align: middle;\n",
       "    }\n",
       "\n",
       "    .dataframe tbody tr th {\n",
       "        vertical-align: top;\n",
       "    }\n",
       "\n",
       "    .dataframe thead th {\n",
       "        text-align: right;\n",
       "    }\n",
       "</style>\n",
       "<table border=\"1\" class=\"dataframe\">\n",
       "  <thead>\n",
       "    <tr style=\"text-align: right;\">\n",
       "      <th></th>\n",
       "      <th>Employee_No</th>\n",
       "      <th>Type</th>\n",
       "      <th>apply_type</th>\n",
       "    </tr>\n",
       "  </thead>\n",
       "  <tbody>\n",
       "    <tr>\n",
       "      <th>0</th>\n",
       "      <td>347</td>\n",
       "      <td>Half Day</td>\n",
       "      <td>Anual</td>\n",
       "    </tr>\n",
       "    <tr>\n",
       "      <th>5</th>\n",
       "      <td>1961</td>\n",
       "      <td>Full Day</td>\n",
       "      <td>Anual</td>\n",
       "    </tr>\n",
       "    <tr>\n",
       "      <th>6</th>\n",
       "      <td>1961</td>\n",
       "      <td>Full Day</td>\n",
       "      <td>Anual</td>\n",
       "    </tr>\n",
       "    <tr>\n",
       "      <th>7</th>\n",
       "      <td>2346</td>\n",
       "      <td>Full Day</td>\n",
       "      <td>Anual</td>\n",
       "    </tr>\n",
       "    <tr>\n",
       "      <th>8</th>\n",
       "      <td>2346</td>\n",
       "      <td>Full Day</td>\n",
       "      <td>Anual</td>\n",
       "    </tr>\n",
       "  </tbody>\n",
       "</table>\n",
       "</div>"
      ],
      "text/plain": [
       "   Employee_No      Type apply_type\n",
       "0          347  Half Day      Anual\n",
       "5         1961  Full Day      Anual\n",
       "6         1961  Full Day      Anual\n",
       "7         2346  Full Day      Anual\n",
       "8         2346  Full Day      Anual"
      ]
     },
     "execution_count": 91,
     "metadata": {},
     "output_type": "execute_result"
    }
   ],
   "source": [
    "#drop columns Applied Date, Remarks\n",
    "leaves_df = leaves_df.drop(['Applied Date', 'Remarks','leave_date'], axis=1)\n",
    "leaves_df.head()"
   ]
  },
  {
   "cell_type": "code",
   "execution_count": 92,
   "metadata": {},
   "outputs": [
    {
     "data": {
      "text/plain": [
       "(947, 3)"
      ]
     },
     "execution_count": 92,
     "metadata": {},
     "output_type": "execute_result"
    }
   ],
   "source": [
    "\n",
    "leaves_df.shape"
   ]
  },
  {
   "cell_type": "code",
   "execution_count": 93,
   "metadata": {},
   "outputs": [
    {
     "data": {
      "text/html": [
       "<div>\n",
       "<style scoped>\n",
       "    .dataframe tbody tr th:only-of-type {\n",
       "        vertical-align: middle;\n",
       "    }\n",
       "\n",
       "    .dataframe tbody tr th {\n",
       "        vertical-align: top;\n",
       "    }\n",
       "\n",
       "    .dataframe thead th {\n",
       "        text-align: right;\n",
       "    }\n",
       "</style>\n",
       "<table border=\"1\" class=\"dataframe\">\n",
       "  <thead>\n",
       "    <tr style=\"text-align: right;\">\n",
       "      <th></th>\n",
       "      <th>Employee_No</th>\n",
       "      <th>Type_Full Day</th>\n",
       "      <th>Type_Half Day</th>\n",
       "      <th>apply_type_Anual</th>\n",
       "      <th>apply_type_Casual</th>\n",
       "    </tr>\n",
       "  </thead>\n",
       "  <tbody>\n",
       "    <tr>\n",
       "      <th>0</th>\n",
       "      <td>347</td>\n",
       "      <td>0</td>\n",
       "      <td>1</td>\n",
       "      <td>1</td>\n",
       "      <td>0</td>\n",
       "    </tr>\n",
       "    <tr>\n",
       "      <th>1</th>\n",
       "      <td>1961</td>\n",
       "      <td>1</td>\n",
       "      <td>0</td>\n",
       "      <td>1</td>\n",
       "      <td>0</td>\n",
       "    </tr>\n",
       "    <tr>\n",
       "      <th>2</th>\n",
       "      <td>1961</td>\n",
       "      <td>1</td>\n",
       "      <td>0</td>\n",
       "      <td>1</td>\n",
       "      <td>0</td>\n",
       "    </tr>\n",
       "    <tr>\n",
       "      <th>3</th>\n",
       "      <td>2346</td>\n",
       "      <td>1</td>\n",
       "      <td>0</td>\n",
       "      <td>1</td>\n",
       "      <td>0</td>\n",
       "    </tr>\n",
       "    <tr>\n",
       "      <th>4</th>\n",
       "      <td>2346</td>\n",
       "      <td>1</td>\n",
       "      <td>0</td>\n",
       "      <td>1</td>\n",
       "      <td>0</td>\n",
       "    </tr>\n",
       "  </tbody>\n",
       "</table>\n",
       "</div>"
      ],
      "text/plain": [
       "   Employee_No  Type_Full Day  Type_Half Day  apply_type_Anual  \\\n",
       "0          347              0              1                 1   \n",
       "1         1961              1              0                 1   \n",
       "2         1961              1              0                 1   \n",
       "3         2346              1              0                 1   \n",
       "4         2346              1              0                 1   \n",
       "\n",
       "   apply_type_Casual  \n",
       "0                  0  \n",
       "1                  0  \n",
       "2                  0  \n",
       "3                  0  \n",
       "4                  0  "
      ]
     },
     "execution_count": 93,
     "metadata": {},
     "output_type": "execute_result"
    }
   ],
   "source": [
    "# one hot encoding for Type and apply type\n",
    "leaves_df = pd.get_dummies(leaves_df, columns=['Type', 'apply_type'])\n",
    "\n",
    "leaves_df = leaves_df.reset_index(drop=True)\n",
    "leaves_df = leaves_df.iloc[:,:].astype(int)\n",
    "leaves_df.head()"
   ]
  },
  {
   "cell_type": "code",
   "execution_count": 94,
   "metadata": {},
   "outputs": [
    {
     "data": {
      "text/html": [
       "<div>\n",
       "<style scoped>\n",
       "    .dataframe tbody tr th:only-of-type {\n",
       "        vertical-align: middle;\n",
       "    }\n",
       "\n",
       "    .dataframe tbody tr th {\n",
       "        vertical-align: top;\n",
       "    }\n",
       "\n",
       "    .dataframe thead th {\n",
       "        text-align: right;\n",
       "    }\n",
       "</style>\n",
       "<table border=\"1\" class=\"dataframe\">\n",
       "  <thead>\n",
       "    <tr style=\"text-align: right;\">\n",
       "      <th></th>\n",
       "      <th>Type_Full Day</th>\n",
       "      <th>Type_Half Day</th>\n",
       "      <th>apply_type_Anual</th>\n",
       "      <th>apply_type_Casual</th>\n",
       "    </tr>\n",
       "    <tr>\n",
       "      <th>Employee_No</th>\n",
       "      <th></th>\n",
       "      <th></th>\n",
       "      <th></th>\n",
       "      <th></th>\n",
       "    </tr>\n",
       "  </thead>\n",
       "  <tbody>\n",
       "    <tr>\n",
       "      <th>347</th>\n",
       "      <td>16</td>\n",
       "      <td>6</td>\n",
       "      <td>11</td>\n",
       "      <td>11</td>\n",
       "    </tr>\n",
       "    <tr>\n",
       "      <th>348</th>\n",
       "      <td>5</td>\n",
       "      <td>7</td>\n",
       "      <td>5</td>\n",
       "      <td>7</td>\n",
       "    </tr>\n",
       "    <tr>\n",
       "      <th>351</th>\n",
       "      <td>4</td>\n",
       "      <td>6</td>\n",
       "      <td>0</td>\n",
       "      <td>10</td>\n",
       "    </tr>\n",
       "    <tr>\n",
       "      <th>356</th>\n",
       "      <td>6</td>\n",
       "      <td>6</td>\n",
       "      <td>0</td>\n",
       "      <td>12</td>\n",
       "    </tr>\n",
       "    <tr>\n",
       "      <th>373</th>\n",
       "      <td>15</td>\n",
       "      <td>6</td>\n",
       "      <td>14</td>\n",
       "      <td>7</td>\n",
       "    </tr>\n",
       "  </tbody>\n",
       "</table>\n",
       "</div>"
      ],
      "text/plain": [
       "             Type_Full Day  Type_Half Day  apply_type_Anual  apply_type_Casual\n",
       "Employee_No                                                                   \n",
       "347                     16              6                11                 11\n",
       "348                      5              7                 5                  7\n",
       "351                      4              6                 0                 10\n",
       "356                      6              6                 0                 12\n",
       "373                     15              6                14                  7"
      ]
     },
     "execution_count": 94,
     "metadata": {},
     "output_type": "execute_result"
    }
   ],
   "source": [
    "# group by Employee_No and sum\n",
    "leaves_df = leaves_df.groupby('Employee_No').sum()\n",
    "leaves_df.head()\n"
   ]
  },
  {
   "cell_type": "code",
   "execution_count": 95,
   "metadata": {},
   "outputs": [
    {
     "data": {
      "text/plain": [
       "(69, 4)"
      ]
     },
     "execution_count": 95,
     "metadata": {},
     "output_type": "execute_result"
    }
   ],
   "source": [
    "leaves_df.shape"
   ]
  },
  {
   "cell_type": "code",
   "execution_count": 96,
   "metadata": {},
   "outputs": [],
   "source": [
    "leaves_df.to_csv('leaves_preprocessed.csv', index=True)"
   ]
  },
  {
   "cell_type": "code",
   "execution_count": null,
   "metadata": {},
   "outputs": [],
   "source": []
  },
  {
   "cell_type": "code",
   "execution_count": null,
   "metadata": {},
   "outputs": [],
   "source": []
  },
  {
   "cell_type": "code",
   "execution_count": null,
   "metadata": {},
   "outputs": [],
   "source": []
  },
  {
   "cell_type": "code",
   "execution_count": null,
   "metadata": {},
   "outputs": [],
   "source": []
  },
  {
   "cell_type": "code",
   "execution_count": null,
   "metadata": {},
   "outputs": [],
   "source": []
  }
 ],
 "metadata": {
  "kernelspec": {
   "display_name": "nn",
   "language": "python",
   "name": "nn"
  },
  "language_info": {
   "codemirror_mode": {
    "name": "ipython",
    "version": 3
   },
   "file_extension": ".py",
   "mimetype": "text/x-python",
   "name": "python",
   "nbconvert_exporter": "python",
   "pygments_lexer": "ipython3",
   "version": "3.10.8"
  },
  "orig_nbformat": 4
 },
 "nbformat": 4,
 "nbformat_minor": 2
}
